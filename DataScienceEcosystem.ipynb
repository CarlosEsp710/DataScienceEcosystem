{
 "cells": [
  {
   "cell_type": "markdown",
   "id": "cb259cdd-d282-4022-96af-2d04a9a7ea78",
   "metadata": {
    "tags": []
   },
   "source": [
    "# Data Science Tools and Ecosystem"
   ]
  },
  {
   "cell_type": "markdown",
   "id": "66e70976-f946-4fb2-9b26-9720da8f6694",
   "metadata": {},
   "source": [
    "In this notebook, Data Science Tools and Ecosystem are summarized."
   ]
  },
  {
   "cell_type": "markdown",
   "id": "c2094162-b94d-4241-b716-b130f896c348",
   "metadata": {
    "tags": []
   },
   "source": [
    "Some of the popular languages that Data Scientists use are:\n",
    "1. Python\n",
    "2. R\n",
    "3. Julia"
   ]
  },
  {
   "cell_type": "markdown",
   "id": "42e7744d-1732-4c88-8f35-ff2b1d3a562d",
   "metadata": {},
   "source": [
    "Some of the commonly used libraries used by Data Scientists include:\n",
    "1. NumPy\n",
    "2. Pandas\n",
    "3. Matplotlib"
   ]
  },
  {
   "cell_type": "markdown",
   "id": "e8b0f035-796d-4bb3-848b-9a27e9bed395",
   "metadata": {},
   "source": [
    "| Data Science Tools        |\n",
    "|---------------------------|\n",
    "| Tool 1                    |\n",
    "| Tool 2                    |\n",
    "| Tool 3                    |\n"
   ]
  },
  {
   "cell_type": "markdown",
   "id": "b6807fae-38c8-4229-96e4-908a6aaed2ac",
   "metadata": {},
   "source": [
    "### Below are a few examples of evaluating arithmetic expressions in Python.\n"
   ]
  },
  {
   "cell_type": "markdown",
   "id": "e43e3418-822b-4852-b279-7ab7de2dc6e8",
   "metadata": {
    "tags": []
   },
   "source": [
    "*This is a simple arithmetic expression to multiply then add integers.*"
   ]
  },
  {
   "cell_type": "code",
   "execution_count": 2,
   "id": "f1540363-3f50-4eef-a564-e0d5678c73e1",
   "metadata": {
    "tags": []
   },
   "outputs": [
    {
     "data": {
      "text/plain": [
       "17"
      ]
     },
     "execution_count": 2,
     "metadata": {},
     "output_type": "execute_result"
    }
   ],
   "source": [
    "(3 * 4) + 5"
   ]
  },
  {
   "cell_type": "markdown",
   "id": "6db08534-3415-48e7-8c19-0acad7ab2ca5",
   "metadata": {},
   "source": [
    "*This will convert 200 minutes to hours by diving by 60*"
   ]
  },
  {
   "cell_type": "code",
   "execution_count": 3,
   "id": "263cb182-58ba-486c-9b10-a63078602c01",
   "metadata": {
    "tags": []
   },
   "outputs": [
    {
     "data": {
      "text/plain": [
       "33.333333333333336"
      ]
     },
     "execution_count": 3,
     "metadata": {},
     "output_type": "execute_result"
    }
   ],
   "source": [
    "200 / 6"
   ]
  },
  {
   "cell_type": "markdown",
   "id": "35d5e983-0157-4ee7-a510-13ee0c80c5db",
   "metadata": {},
   "source": [
    "**Objectives:**\n",
    "- List popular languages for Data Science.\n",
    "- Identify commonly used libraries in Data Science.\n",
    "- Introduce basic arithmetic operations in Python.\n"
   ]
  },
  {
   "cell_type": "markdown",
   "id": "0a196b1b-70fe-4c2e-a9e6-c2fa4771bb35",
   "metadata": {},
   "source": [
    "## Author\n",
    "Carlos Espejel Salazar"
   ]
  },
  {
   "cell_type": "code",
   "execution_count": null,
   "id": "945825a8-cc6e-466d-b01c-caa99e948930",
   "metadata": {},
   "outputs": [],
   "source": []
  }
 ],
 "metadata": {
  "kernelspec": {
   "display_name": "Python 3 (ipykernel)",
   "language": "python",
   "name": "python3"
  },
  "language_info": {
   "codemirror_mode": {
    "name": "ipython",
    "version": 3
   },
   "file_extension": ".py",
   "mimetype": "text/x-python",
   "name": "python",
   "nbconvert_exporter": "python",
   "pygments_lexer": "ipython3",
   "version": "3.11.5"
  }
 },
 "nbformat": 4,
 "nbformat_minor": 5
}
